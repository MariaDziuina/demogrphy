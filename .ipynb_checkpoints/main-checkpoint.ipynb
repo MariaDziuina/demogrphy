{
 "cells": [
  {
   "cell_type": "code",
   "execution_count": 2,
   "metadata": {},
   "outputs": [],
   "source": [
    "# coding: utf-8\n",
    "# наше всё\n",
    "import numpy as np\n",
    "import pandas as pd\n",
    "\n",
    "#настройки pandas, с которыми лучше почти всегда\n",
    "pd.set_option('display.max_rows', 45000)\n",
    "pd.set_option('display.max_columns', 50000)\n",
    "pd.set_option('display.max_colwidth', 5000)\n",
    "\n",
    "import random"
   ]
  },
  {
   "cell_type": "code",
   "execution_count": 244,
   "metadata": {},
   "outputs": [],
   "source": [
    "# 1 or 0 under propability\n",
    "def get_rand(propability):\n",
    "    import random\n",
    "    base_random=random.randint(0, 9999)\n",
    "    \n",
    "    if float(base_random)<10000*propability:\n",
    "        res=1\n",
    "    else:\n",
    "        res=0\n",
    "    \n",
    "    return res"
   ]
  },
  {
   "cell_type": "code",
   "execution_count": 245,
   "metadata": {},
   "outputs": [
    {
     "data": {
      "text/plain": [
       "1"
      ]
     },
     "execution_count": 245,
     "metadata": {},
     "output_type": "execute_result"
    }
   ],
   "source": [
    "get_rand(0.5)"
   ]
  },
  {
   "cell_type": "code",
   "execution_count": 252,
   "metadata": {},
   "outputs": [
    {
     "name": "stdout",
     "output_type": "stream",
     "text": [
      "real probabilyhty is  99.424 %\n"
     ]
    }
   ],
   "source": [
    "# fuction test\n",
    "n=100000\n",
    "prop=0.994\n",
    "\n",
    "rlst=[]\n",
    "for i in range(n):\n",
    "    rlst.append(get_rand(prop))\n",
    "\n",
    "df=pd.DataFrame(rlst, columns=['rand'])\n",
    "print('real probabilyhty is ', 100*np.sum(df[df['rand']==1]['rand'])/len(df), '%')"
   ]
  },
  {
   "cell_type": "code",
   "execution_count": 282,
   "metadata": {},
   "outputs": [],
   "source": [
    "# our citizens\n",
    "class citizen():\n",
    "    def __init__(\n",
    "                 self, \n",
    "                 id=-1,\n",
    "                 age=0,\n",
    "                 gender='f',\n",
    "                 parent1_id=-1,\n",
    "                 parent2_id=-1,\n",
    "                 coubple_id=-1,\n",
    "                 child_id_lst=[],\n",
    "                 is_alive=1,\n",
    "                ):\n",
    "        self.id=id\n",
    "        self.age=age\n",
    "        self.gender=gender\n",
    "        self.parent1_id=parent1_id\n",
    "        self.parent2_id=parent2_id\n",
    "        self.child_id_lst=child_id_lst\n",
    "        self.is_alive=is_alive\n",
    "        self.coubple_id=coubple_id\n",
    "    \n",
    "    def death_case(self, death_propabilyty):\n",
    "        if self.is_alive==1:\n",
    "            self.is_alive=get_rand(1-death_propabilyty)\n",
    "                  \n",
    "    def find_case(self, find_propabilyty):\n",
    "        if self.is_alive==1:\n",
    "            if get_rand(find_propabilyty)==1:\n",
    "                self.coubple_id=100\n",
    "                \n",
    "    def parent_case(self, parent_propabilyty):\n",
    "        if self.is_alive==1:\n",
    "            if get_rand(parent_propabilyty)==1:\n",
    "                self.child_id_lst.append(101)"
   ]
  },
  {
   "cell_type": "code",
   "execution_count": 304,
   "metadata": {},
   "outputs": [],
   "source": [
    "a=citizen(age=18)"
   ]
  },
  {
   "cell_type": "code",
   "execution_count": 305,
   "metadata": {},
   "outputs": [
    {
     "data": {
      "text/plain": [
       "18"
      ]
     },
     "execution_count": 305,
     "metadata": {},
     "output_type": "execute_result"
    }
   ],
   "source": [
    "a.age"
   ]
  },
  {
   "cell_type": "code",
   "execution_count": 306,
   "metadata": {},
   "outputs": [
    {
     "data": {
      "text/plain": [
       "1"
      ]
     },
     "execution_count": 306,
     "metadata": {},
     "output_type": "execute_result"
    }
   ],
   "source": [
    "a.is_alive"
   ]
  },
  {
   "cell_type": "code",
   "execution_count": 307,
   "metadata": {},
   "outputs": [],
   "source": [
    "a.death_case(0.1)"
   ]
  },
  {
   "cell_type": "code",
   "execution_count": 308,
   "metadata": {},
   "outputs": [
    {
     "data": {
      "text/plain": [
       "1"
      ]
     },
     "execution_count": 308,
     "metadata": {},
     "output_type": "execute_result"
    }
   ],
   "source": [
    "a.is_alive"
   ]
  },
  {
   "cell_type": "code",
   "execution_count": null,
   "metadata": {},
   "outputs": [],
   "source": []
  }
 ],
 "metadata": {
  "kernelspec": {
   "display_name": "Python 3",
   "language": "python",
   "name": "python3"
  },
  "language_info": {
   "codemirror_mode": {
    "name": "ipython",
    "version": 3
   },
   "file_extension": ".py",
   "mimetype": "text/x-python",
   "name": "python",
   "nbconvert_exporter": "python",
   "pygments_lexer": "ipython3",
   "version": "3.8.5"
  }
 },
 "nbformat": 4,
 "nbformat_minor": 4
}
