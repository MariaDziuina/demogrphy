{
 "cells": [
  {
   "cell_type": "code",
   "execution_count": 2,
   "metadata": {},
   "outputs": [],
   "source": [
    "# coding: utf-8\n",
    "# наше всё\n",
    "import numpy as np\n",
    "import pandas as pd\n",
    "\n",
    "#настройки pandas, с которыми лучше почти всегда\n",
    "pd.set_option('display.max_rows', 45000)\n",
    "pd.set_option('display.max_columns', 50000)\n",
    "pd.set_option('display.max_colwidth', 5000)\n",
    "\n",
    "import random"
   ]
  },
  {
   "cell_type": "code",
   "execution_count": 244,
   "metadata": {},
   "outputs": [],
   "source": [
    "# 1 or 0 under propability\n",
    "def get_rand(propability):\n",
    "    import random\n",
    "    base_random=random.randint(0, 9999)\n",
    "    \n",
    "    if float(base_random)<10000*propability:\n",
    "        res=1\n",
    "    else:\n",
    "        res=0\n",
    "    \n",
    "    return res"
   ]
  },
  {
   "cell_type": "code",
   "execution_count": 245,
   "metadata": {},
   "outputs": [
    {
     "data": {
      "text/plain": [
       "1"
      ]
     },
     "execution_count": 245,
     "metadata": {},
     "output_type": "execute_result"
    }
   ],
   "source": [
    "get_rand(0.5)"
   ]
  },
  {
   "cell_type": "code",
   "execution_count": 252,
   "metadata": {},
   "outputs": [
    {
     "name": "stdout",
     "output_type": "stream",
     "text": [
      "real probabilyhty is  99.424 %\n"
     ]
    }
   ],
   "source": [
    "# fuction test\n",
    "n=100000\n",
    "prop=0.994\n",
    "\n",
    "rlst=[]\n",
    "for i in range(n):\n",
    "    rlst.append(get_rand(prop))\n",
    "\n",
    "df=pd.DataFrame(rlst, columns=['rand'])\n",
    "print('real probabilyhty is ', 100*np.sum(df[df['rand']==1]['rand'])/len(df), '%')"
   ]
  },
  {
   "cell_type": "code",
   "execution_count": null,
   "metadata": {},
   "outputs": [],
   "source": []
  }
 ],
 "metadata": {
  "kernelspec": {
   "display_name": "Python 3",
   "language": "python",
   "name": "python3"
  },
  "language_info": {
   "codemirror_mode": {
    "name": "ipython",
    "version": 3
   },
   "file_extension": ".py",
   "mimetype": "text/x-python",
   "name": "python",
   "nbconvert_exporter": "python",
   "pygments_lexer": "ipython3",
   "version": "3.8.5"
  }
 },
 "nbformat": 4,
 "nbformat_minor": 4
}
